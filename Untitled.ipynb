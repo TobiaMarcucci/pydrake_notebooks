{
 "cells": [
  {
   "cell_type": "code",
   "execution_count": 1,
   "metadata": {},
   "outputs": [],
   "source": [
    "%load_ext autoreload\n",
    "%autoreload 2\n",
    "#%matplotlib notebook"
   ]
  },
  {
   "cell_type": "code",
   "execution_count": 2,
   "metadata": {},
   "outputs": [],
   "source": [
    "import numpy as np\n",
    "import matplotlib.pyplot as plt\n",
    "from pydrake.all import MathematicalProgram, Variables, SolutionResult, Polynomial"
   ]
  },
  {
   "cell_type": "markdown",
   "metadata": {},
   "source": [
    "\\begin{equation}\n",
    "\\dot x_1 = - x_2, \\quad\n",
    "\\dot x_2 = x_1 + (x_1^2 -1) x_2\n",
    "\\end{equation}"
   ]
  },
  {
   "cell_type": "code",
   "execution_count": 3,
   "metadata": {},
   "outputs": [],
   "source": [
    "def offset_function(prog, x, d, gamma=.01):\n",
    "    assert(d % 2 == 0)\n",
    "    eps = prog.NewContinuousVariables(x.shape[0], d/2, 'eps')\n",
    "    phi = 0.\n",
    "    for i in range(x.shape[0]):\n",
    "        prog.AddLinearConstraint(np.sum(eps[i,:]) >= gamma)\n",
    "        for j in range(d/2):\n",
    "            prog.AddLinearConstraint(eps[i,j] >= 0.)\n",
    "            phi += eps[i,j]*x[i]**(2.*(j+1))\n",
    "    return phi"
   ]
  },
  {
   "cell_type": "code",
   "execution_count": 4,
   "metadata": {},
   "outputs": [],
   "source": [
    "def dynamics(x):\n",
    "    mu = 3.\n",
    "    x0d = - x[1]\n",
    "    x1d = x[0] + mu*(x[0]**2 - 1.) * x[1]\n",
    "    return np.array([x0d, x1d])"
   ]
  },
  {
   "cell_type": "code",
   "execution_count": 5,
   "metadata": {},
   "outputs": [],
   "source": [
    "def insert_new_indeterminates(poly, x):\n",
    "    return Polynomial(poly.ToExpression().Substitute({xi: x[i] for i, xi in enumerate(poly.indeterminates())}))"
   ]
  },
  {
   "cell_type": "code",
   "execution_count": 6,
   "metadata": {},
   "outputs": [],
   "source": [
    "def get_V(roa, d):\n",
    "    \n",
    "    # set up mathematical program\n",
    "    prog = MathematicalProgram()\n",
    "    x = prog.NewIndeterminates(2, 'x')\n",
    "    \n",
    "    # sos constraint on the lyapunov\n",
    "    V = prog.NewFreePolynomial(Variables(x), d)\n",
    "    phi = offset_function(prog, x, d)\n",
    "    prog.AddSosConstraint(V.ToExpression() - phi)\n",
    "    \n",
    "    # fix two points of the lyapunov\n",
    "    V_0 = V.ToExpression().EvaluatePartial({x[0]: 0., x[1]: 0.})\n",
    "    V_1 = V.ToExpression().EvaluatePartial({x[0]: 1., x[1]: 1.})\n",
    "    prog.AddLinearConstraint(V_0 == 0.)\n",
    "    prog.AddLinearConstraint(V_1 == 1.)\n",
    "    \n",
    "    # sos constraint on the derivative of the lyapunov\n",
    "    roa = insert_new_indeterminates(roa, x).ToExpression()\n",
    "    lam = prog.NewSosPolynomial(Variables(x), d)[0]\n",
    "    Vdot = V.ToExpression().Jacobian(x).dot(dynamics(x))\n",
    "    phi = offset_function(prog, x, d)\n",
    "    prog.AddSosConstraint(- Vdot + lam.ToExpression() * roa - phi)\n",
    "    \n",
    "    # solve program\n",
    "    result = prog.Solve()\n",
    "    assert(result == SolutionResult.kSolutionFound)\n",
    "    return prog.SubstituteSolution(V)"
   ]
  },
  {
   "cell_type": "code",
   "execution_count": null,
   "metadata": {},
   "outputs": [],
   "source": []
  },
  {
   "cell_type": "code",
   "execution_count": 7,
   "metadata": {},
   "outputs": [],
   "source": [
    "def get_roa(V, d):\n",
    "    \n",
    "    # set up mathematical program\n",
    "    prog = MathematicalProgram()\n",
    "    x = prog.NewIndeterminates(2, 'x')\n",
    "    \n",
    "    # sos constraint on the derivative of the lyapunov\n",
    "    V = insert_new_indeterminates(V, x).ToExpression()\n",
    "    lam = prog.NewSosPolynomial(Variables(x), d)[0]\n",
    "    rho = prog.NewContinuousVariables(1, 'rho')[0]\n",
    "    Vdot = V.Jacobian(x).dot(dynamics(x))\n",
    "    prog.AddSosConstraint((V - rho) * x.dot(x) - lam.ToExpression() * Vdot)\n",
    "    \n",
    "    # maximize level\n",
    "    prog.AddLinearCost(-rho)\n",
    "    \n",
    "    # solve program\n",
    "    result = prog.Solve()\n",
    "    assert(result == SolutionResult.kSolutionFound)\n",
    "    print prog.GetSolution(rho)\n",
    "    return Polynomial(prog.SubstituteSolution(V) - prog.GetSolution(rho))"
   ]
  },
  {
   "cell_type": "code",
   "execution_count": 8,
   "metadata": {},
   "outputs": [],
   "source": [
    "def simulate(x0, dt, N):\n",
    "    x = [x0]\n",
    "    for t in range(N):\n",
    "        x.append(x[-1] + dt  * -dynamics(x[-1]))\n",
    "    plt.plot([xi[0] for xi in x],[xi[1] for xi in x])\n",
    "    return x[-1]"
   ]
  },
  {
   "cell_type": "code",
   "execution_count": 9,
   "metadata": {},
   "outputs": [],
   "source": [
    "def poly_eval(poly, x):\n",
    "    return poly.ToExpression().Evaluate({xi: x[i] for i, xi in enumerate(roa.indeterminates())})"
   ]
  },
  {
   "cell_type": "code",
   "execution_count": 10,
   "metadata": {},
   "outputs": [],
   "source": [
    "def plot_roa(roa):\n",
    "    n = 201\n",
    "    simulate(np.array([1., -1]), .01, 1000)\n",
    "    x0 = np.linspace(-5., 5., n)\n",
    "    x1 = np.linspace(-5., 5., n)\n",
    "    X0, X1 = np.meshgrid(x0, x1)\n",
    "    ROA = np.array([poly_eval(roa, [i, j]) for i, j in zip(np.ravel(X0), np.ravel(X1))]).reshape(n, n)\n",
    "    plt.contour(X0, X1, ROA, levels=[0])"
   ]
  },
  {
   "cell_type": "code",
   "execution_count": 11,
   "metadata": {},
   "outputs": [
    {
     "name": "stdout",
     "output_type": "stream",
     "text": [
      "0\n",
      "0.0526961200923\n",
      "1\n",
      "0.0408740808194\n"
     ]
    },
    {
     "data": {
      "image/png": "[encoded data removed]",
      "text/plain": [
       "<Figure size 432x288 with 1 Axes>"
      ]
     },
     "metadata": {},
     "output_type": "display_data"
    }
   ],
   "source": [
    "prog = MathematicalProgram()\n",
    "x = prog.NewIndeterminates(2, 'x')\n",
    "roa = Polynomial(x[0]**2 + x[1]**2 - .1)\n",
    "i = 0\n",
    "lam, lam_c = prog.NewSosPolynomial(Variables(x), 2)\n",
    "while i < 2:\n",
    "    print i\n",
    "    i += 1\n",
    "    V = get_V(roa, 4)\n",
    "    roa = get_roa(V, 4)\n",
    "    plot_roa(roa)"
   ]
  }
 ],
 "metadata": {
  "kernelspec": {
   "display_name": "Python 2",
   "language": "python",
   "name": "python2"
  },
  "language_info": {
   "codemirror_mode": {
    "name": "ipython",
    "version": 2
   },
   "file_extension": ".py",
   "mimetype": "text/x-python",
   "name": "python",
   "nbconvert_exporter": "python",
   "pygments_lexer": "ipython2",
   "version": "2.7.12"
  }
 },
 "nbformat": 4,
 "nbformat_minor": 2
}
